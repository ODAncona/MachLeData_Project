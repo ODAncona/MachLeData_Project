{
 "cells": [
  {
   "cell_type": "code",
   "execution_count": 26,
   "metadata": {},
   "outputs": [],
   "source": [
    "# Import needed modules\n",
    "import moviepy.editor as mp\n",
    "import os\n",
    "import torch\n",
    "import torch.nn as nn\n",
    "import torch.nn.functional as F\n",
    "import torch.optim as optim\n",
    "from torch.utils.data import DataLoader, Dataset\n",
    "from pytorch_lightning import LightningModule, Trainer\n",
    "import numpy as np\n",
    "\n",
    "# Define data path\n",
    "video_path = 'data/Yann Zurbrugg/1.mp4'"
   ]
  },
  {
   "cell_type": "code",
   "execution_count": 27,
   "metadata": {},
   "outputs": [],
   "source": [
    "# Download dataset\n",
    "# Login: wolftau\n",
    "# Password: wtal997"
   ]
  },
  {
   "cell_type": "code",
   "execution_count": 32,
   "metadata": {},
   "outputs": [
    {
     "name": "stdout",
     "output_type": "stream",
     "text": [
      "Moviepy - Writing frames preprocessed_data/Yann Zurbrugg/clip0/frame%04d.jpg.\n"
     ]
    },
    {
     "name": "stderr",
     "output_type": "stream",
     "text": [
      "                                                             \r"
     ]
    },
    {
     "name": "stdout",
     "output_type": "stream",
     "text": [
      "Moviepy - Done writing frames preprocessed_data/Yann Zurbrugg/clip0/frame%04d.jpg.\n",
      "Video split into 2 second clips and saved in preprocessed_data/Yann Zurbrugg\n",
      "MoviePy - Writing audio in preprocessed_data/Yann Zurbrugg/clip0/audio.wav\n"
     ]
    },
    {
     "name": "stderr",
     "output_type": "stream",
     "text": [
      "                                                       "
     ]
    },
    {
     "name": "stdout",
     "output_type": "stream",
     "text": [
      "MoviePy - Done.\n",
      "Audio split into 2 second clips and saved in preprocessed_data/Yann Zurbrugg\n"
     ]
    },
    {
     "name": "stderr",
     "output_type": "stream",
     "text": [
      "\r"
     ]
    }
   ],
   "source": [
    "# Split the video data in 2 seconds frames and audio\n",
    "class VideoProcessor:\n",
    "    def __init__(self, video_path):\n",
    "        self.video_path = video_path\n",
    "        self.output_path = 'preprocessed_data/' + video_path.split('/')[1]\n",
    "    # Split the video into frames and save them in the output folder\n",
    "    def split_video(self, split_duration=2):\n",
    "        \"\"\"Split the video into frames and save them in the output path\"\"\"\n",
    "        video = mp.VideoFileClip(self.video_path)\n",
    "        # Split the video to 2 second clips\n",
    "        for i in range(0, int(video.duration), split_duration):\n",
    "            # If the last clip is shorter than 2 seconds, ignore it\n",
    "            if i + split_duration > video.duration:\n",
    "                break\n",
    "            output = self.output_path + '/clip' + str(i)\n",
    "            if not os.path.exists(output):\n",
    "                os.makedirs(output)\n",
    "            subclip = (video.subclip(i, i + split_duration))\n",
    "            subclip.write_images_sequence(output + '/frame%04d.jpg')\n",
    "        print('Video split into', int(split_duration), 'second clips and saved in', self.output_path)\n",
    "\n",
    "    def split_audio(self, split_duration=2):\n",
    "        \"\"\"Split the audio from the video and save it in the output path\"\"\"\n",
    "        video = mp.VideoFileClip(self.video_path)\n",
    "        # Split the audio to 2 second clips\n",
    "        for i in range(0, int(video.duration), split_duration):\n",
    "            # If the last clip is shorter than 2 seconds, ignore it\n",
    "            if i + split_duration > video.duration:\n",
    "                break\n",
    "            output = self.output_path + '/clip' + str(i)\n",
    "            if not os.path.exists(output):\n",
    "                os.makedirs(output)\n",
    "            subclip = video.subclip(i, i + split_duration)\n",
    "            subclip.audio.write_audiofile(output + '/audio.wav')\n",
    "        print('Audio split into', int(split_duration), 'second clips and saved in', self.output_path)\n",
    "\n",
    "# Execute the video processor\n",
    "video_processor = VideoProcessor(video_path)\n",
    "video_processor.split_video()\n",
    "video_processor.split_audio()"
   ]
  },
  {
   "cell_type": "code",
   "execution_count": 29,
   "metadata": {},
   "outputs": [],
   "source": [
    "# Create an LSTM model in lightning to extract the features from the audio data\n",
    "class LSTM(LightningModule):\n",
    "    def __init__(self, input_size, hidden_size, num_layers, output_size):\n",
    "        super(LSTM, self).__init__()\n",
    "        self.hidden_size = hidden_size\n",
    "        self.num_layers = num_layers\n",
    "        self.lstm = nn.LSTM(input_size, hidden_size, num_layers, batch_first=True)\n",
    "        self.fc = nn.Linear(hidden_size, output_size)\n",
    "        self.hidden = self.init_hidden()\n",
    "\n",
    "    def forward(self, x):\n",
    "        h0, c0 = self.hidden\n",
    "        out, (hn, cn) = self.lstm(x, (h0, c0))\n",
    "        out = self.fc(out[:, -1, :])\n",
    "        return out\n",
    "\n",
    "    def init_hidden(self):\n",
    "        h0 = torch.zeros(self.num_layers, 1, self.hidden_size).to(self.device)\n",
    "        c0 = torch.zeros(self.num_layers, 1, self.hidden_size).to(self.device)\n",
    "        return (h0, c0)\n",
    "\n",
    "    def configure_optimizers(self):\n",
    "        return optim.Adam(self.parameters(), lr=0.001)\n",
    "\n",
    "    def training_step(self, batch, batch_idx):\n",
    "        x, y = batch\n",
    "        y_hat = self(x)\n",
    "        loss = F.mse_loss(y_hat, y)\n",
    "        return loss\n"
   ]
  },
  {
   "cell_type": "code",
   "execution_count": null,
   "metadata": {},
   "outputs": [
    {
     "ename": "TypeError",
     "evalue": "<genexpr> is not a Module subclass",
     "output_type": "error",
     "traceback": [
      "\u001b[1;31m---------------------------------------------------------------------------\u001b[0m",
      "\u001b[1;31mTypeError\u001b[0m                                 Traceback (most recent call last)",
      "Cell \u001b[1;32mIn[37], line 23\u001b[0m\n\u001b[0;32m     21\u001b[0m \u001b[38;5;66;03m# Initialize the models, LSTM in parallel with the 60 CNN models and finally a concatenation layer\u001b[39;00m\n\u001b[0;32m     22\u001b[0m lstm \u001b[38;5;241m=\u001b[39m LSTM(\u001b[38;5;241m1\u001b[39m, \u001b[38;5;241m128\u001b[39m, \u001b[38;5;241m2\u001b[39m, \u001b[38;5;241m128\u001b[39m)\n\u001b[1;32m---> 23\u001b[0m cnn \u001b[38;5;241m=\u001b[39m \u001b[43mnn\u001b[49m\u001b[38;5;241;43m.\u001b[39;49m\u001b[43mSequential\u001b[49m\u001b[43m(\u001b[49m\u001b[43mCNN\u001b[49m\u001b[43m(\u001b[49m\u001b[38;5;241;43m128\u001b[39;49m\u001b[43m)\u001b[49m\u001b[43m \u001b[49m\u001b[38;5;28;43;01mfor\u001b[39;49;00m\u001b[43m \u001b[49m\u001b[43mi\u001b[49m\u001b[43m \u001b[49m\u001b[38;5;129;43;01min\u001b[39;49;00m\u001b[43m \u001b[49m\u001b[38;5;28;43mrange\u001b[39;49m\u001b[43m(\u001b[49m\u001b[38;5;241;43m60\u001b[39;49m\u001b[43m)\u001b[49m\u001b[43m)\u001b[49m\n\u001b[0;32m     24\u001b[0m model \u001b[38;5;241m=\u001b[39m nn\u001b[38;5;241m.\u001b[39mLinear(lstm\u001b[38;5;241m.\u001b[39mhidden_size \u001b[38;5;241m+\u001b[39m \u001b[38;5;241m60\u001b[39m \u001b[38;5;241m*\u001b[39m cnn[\u001b[38;5;241m0\u001b[39m]\u001b[38;5;241m.\u001b[39mresnet\u001b[38;5;241m.\u001b[39mfc\u001b[38;5;241m.\u001b[39mout_features, \u001b[38;5;241m1\u001b[39m)\n\u001b[0;32m     25\u001b[0m \u001b[38;5;28mprint\u001b[39m(model)\n",
      "File \u001b[1;32mc:\\Users\\yass_\\OneDrive - HESSO\\MASTER\\MachLeData\\MachLeData_Project\\.venv\\Lib\\site-packages\\torch\\nn\\modules\\container.py:127\u001b[0m, in \u001b[0;36mSequential.__init__\u001b[1;34m(self, *args)\u001b[0m\n\u001b[0;32m    125\u001b[0m \u001b[38;5;28;01melse\u001b[39;00m:\n\u001b[0;32m    126\u001b[0m     \u001b[38;5;28;01mfor\u001b[39;00m idx, module \u001b[38;5;129;01min\u001b[39;00m \u001b[38;5;28menumerate\u001b[39m(args):\n\u001b[1;32m--> 127\u001b[0m         \u001b[38;5;28;43mself\u001b[39;49m\u001b[38;5;241;43m.\u001b[39;49m\u001b[43madd_module\u001b[49m\u001b[43m(\u001b[49m\u001b[38;5;28;43mstr\u001b[39;49m\u001b[43m(\u001b[49m\u001b[43midx\u001b[49m\u001b[43m)\u001b[49m\u001b[43m,\u001b[49m\u001b[43m \u001b[49m\u001b[43mmodule\u001b[49m\u001b[43m)\u001b[49m\n",
      "File \u001b[1;32mc:\\Users\\yass_\\OneDrive - HESSO\\MASTER\\MachLeData\\MachLeData_Project\\.venv\\Lib\\site-packages\\torch\\nn\\modules\\module.py:642\u001b[0m, in \u001b[0;36mModule.add_module\u001b[1;34m(self, name, module)\u001b[0m\n\u001b[0;32m    632\u001b[0m \u001b[38;5;250m\u001b[39m\u001b[38;5;124mr\u001b[39m\u001b[38;5;124;03m\"\"\"Add a child module to the current module.\u001b[39;00m\n\u001b[0;32m    633\u001b[0m \n\u001b[0;32m    634\u001b[0m \u001b[38;5;124;03mThe module can be accessed as an attribute using the given name.\u001b[39;00m\n\u001b[1;32m   (...)\u001b[0m\n\u001b[0;32m    639\u001b[0m \u001b[38;5;124;03m    module (Module): child module to be added to the module.\u001b[39;00m\n\u001b[0;32m    640\u001b[0m \u001b[38;5;124;03m\"\"\"\u001b[39;00m\n\u001b[0;32m    641\u001b[0m \u001b[38;5;28;01mif\u001b[39;00m \u001b[38;5;129;01mnot\u001b[39;00m \u001b[38;5;28misinstance\u001b[39m(module, Module) \u001b[38;5;129;01mand\u001b[39;00m module \u001b[38;5;129;01mis\u001b[39;00m \u001b[38;5;129;01mnot\u001b[39;00m \u001b[38;5;28;01mNone\u001b[39;00m:\n\u001b[1;32m--> 642\u001b[0m     \u001b[38;5;28;01mraise\u001b[39;00m \u001b[38;5;167;01mTypeError\u001b[39;00m(\u001b[38;5;124mf\u001b[39m\u001b[38;5;124m\"\u001b[39m\u001b[38;5;132;01m{\u001b[39;00mtorch\u001b[38;5;241m.\u001b[39mtypename(module)\u001b[38;5;132;01m}\u001b[39;00m\u001b[38;5;124m is not a Module subclass\u001b[39m\u001b[38;5;124m\"\u001b[39m)\n\u001b[0;32m    643\u001b[0m \u001b[38;5;28;01melif\u001b[39;00m \u001b[38;5;129;01mnot\u001b[39;00m \u001b[38;5;28misinstance\u001b[39m(name, \u001b[38;5;28mstr\u001b[39m):\n\u001b[0;32m    644\u001b[0m     \u001b[38;5;28;01mraise\u001b[39;00m \u001b[38;5;167;01mTypeError\u001b[39;00m(\n\u001b[0;32m    645\u001b[0m         \u001b[38;5;124mf\u001b[39m\u001b[38;5;124m\"\u001b[39m\u001b[38;5;124mmodule name should be a string. Got \u001b[39m\u001b[38;5;132;01m{\u001b[39;00mtorch\u001b[38;5;241m.\u001b[39mtypename(name)\u001b[38;5;132;01m}\u001b[39;00m\u001b[38;5;124m\"\u001b[39m\n\u001b[0;32m    646\u001b[0m     )\n",
      "\u001b[1;31mTypeError\u001b[0m: <genexpr> is not a Module subclass"
     ]
    }
   ],
   "source": [
    "# Create the CNN model in lightning to extract the features from the video data\n",
    "# Use the ResNet18 model from torchvision\n",
    "class CNN(LightningModule):\n",
    "    def __init__(self, output_size):\n",
    "        super(CNN, self).__init__()\n",
    "        self.resnet = torch.hub.load('pytorch/vision:v0.6.0', 'resnet18', pretrained=True)\n",
    "        self.resnet.fc = nn.Linear(512, output_size)\n",
    "\n",
    "    def forward(self, x):\n",
    "        return self.resnet(x)\n",
    "\n",
    "    def configure_optimizers(self):\n",
    "        return optim.Adam(self.parameters(), lr=0.001)\n",
    "\n",
    "    def training_step(self, batch, batch_idx):\n",
    "        x, y = batch\n",
    "        y_hat = self(x)\n",
    "        loss = F.mse_loss(y_hat, y)\n",
    "        return loss"
   ]
  },
  {
   "cell_type": "code",
   "execution_count": 31,
   "metadata": {},
   "outputs": [
    {
     "name": "stderr",
     "output_type": "stream",
     "text": [
      "GPU available: False, used: False\n",
      "TPU available: False, using: 0 TPU cores\n",
      "HPU available: False, using: 0 HPUs\n",
      "\n",
      "  | Name | Type   | Params | Mode \n",
      "----------------------------------------\n",
      "0 | lstm | LSTM   | 199 K  | train\n",
      "1 | fc   | Linear | 16.5 K | train\n",
      "----------------------------------------\n",
      "215 K     Trainable params\n",
      "0         Non-trainable params\n",
      "215 K     Total params\n",
      "0.863     Total estimated model params size (MB)\n",
      "2         Modules in train mode\n",
      "0         Modules in eval mode\n",
      "`Trainer.fit` stopped: No training batches.\n"
     ]
    },
    {
     "name": "stdout",
     "output_type": "stream",
     "text": [
      "LSTM(\n",
      "  (lstm): LSTM(1, 128, num_layers=2, batch_first=True)\n",
      "  (fc): Linear(in_features=128, out_features=128, bias=True)\n",
      ")\n"
     ]
    }
   ],
   "source": [
    "\n",
    "# Create the data loader\n",
    "# Load the audio data\n",
    "class AudioDataset(Dataset):\n",
    "    def __init__(self, data_path):\n",
    "        self.data_path = data_path\n",
    "        self.samples = []\n",
    "        for root, dirs, files in os.walk(data_path):\n",
    "            for file in files:\n",
    "                if file.endswith('.wav'):\n",
    "                    self.samples.append(os.path.join(root, file))\n",
    "        self.samples.sort()\n",
    "\n",
    "    def __len__(self):\n",
    "        return len(self.samples)\n",
    "\n",
    "    def __getitem__(self, idx):\n",
    "        sample = self.samples[idx]\n",
    "        audio = torch.load(sample)\n",
    "        return audio\n",
    "    \n",
    "# Load audio data\n",
    "audio_dataset = AudioDataset(\"model/preprocessed_data/Yann Zurbrugg/clip0/audio.wav\")\n",
    "audio_loader = DataLoader(audio_dataset, batch_size=1, shuffle=False)\n",
    "\n",
    "# Initialize the LSTM model\n",
    "input_size = 1\n",
    "hidden_size = 128\n",
    "num_layers = 2\n",
    "output_size = 128\n",
    "lstm = LSTM(input_size, hidden_size, num_layers, output_size)\n",
    "\n",
    "# Summary of the model architecture\n",
    "print(lstm)\n",
    "\n",
    "# Train the model\n",
    "trainer = Trainer(max_epochs=10)\n",
    "trainer.fit(lstm, audio_loader)"
   ]
  }
 ],
 "metadata": {
  "kernelspec": {
   "display_name": ".venv",
   "language": "python",
   "name": "python3"
  },
  "language_info": {
   "codemirror_mode": {
    "name": "ipython",
    "version": 3
   },
   "file_extension": ".py",
   "mimetype": "text/x-python",
   "name": "python",
   "nbconvert_exporter": "python",
   "pygments_lexer": "ipython3",
   "version": "3.11.9"
  }
 },
 "nbformat": 4,
 "nbformat_minor": 2
}
