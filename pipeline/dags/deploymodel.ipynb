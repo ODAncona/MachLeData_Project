{
 "cells": [
  {
   "cell_type": "code",
   "execution_count": 1,
   "metadata": {},
   "outputs": [
    {
     "ename": "ModuleNotFoundError",
     "evalue": "No module named 'kubernetes'",
     "output_type": "error",
     "traceback": [
      "\u001b[1;31m---------------------------------------------------------------------------\u001b[0m",
      "\u001b[1;31mModuleNotFoundError\u001b[0m                       Traceback (most recent call last)",
      "Cell \u001b[1;32mIn[1], line 2\u001b[0m\n\u001b[0;32m      1\u001b[0m \u001b[38;5;28;01mfrom\u001b[39;00m \u001b[38;5;21;01mmlflow\u001b[39;00m\u001b[38;5;21;01m.\u001b[39;00m\u001b[38;5;21;01mtracking\u001b[39;00m\u001b[38;5;21;01m.\u001b[39;00m\u001b[38;5;21;01mclient\u001b[39;00m \u001b[38;5;28;01mimport\u001b[39;00m MlflowClient\n\u001b[1;32m----> 2\u001b[0m \u001b[38;5;28;01mfrom\u001b[39;00m \u001b[38;5;21;01mkubernetes\u001b[39;00m \u001b[38;5;28;01mimport\u001b[39;00m client, config\n\u001b[0;32m      4\u001b[0m IP_MLFLOW \u001b[38;5;241m=\u001b[39m \u001b[38;5;124m\"\u001b[39m\u001b[38;5;124mhttp://34.65.82.22\u001b[39m\u001b[38;5;124m\"\u001b[39m\n\u001b[0;32m      5\u001b[0m MODEL_NAME \u001b[38;5;241m=\u001b[39m \u001b[38;5;124m\"\u001b[39m\u001b[38;5;124miris_logistic_regression\u001b[39m\u001b[38;5;124m\"\u001b[39m\n",
      "\u001b[1;31mModuleNotFoundError\u001b[0m: No module named 'kubernetes'"
     ]
    }
   ],
   "source": [
    "from mlflow.tracking.client import MlflowClient\n",
    "from kubernetes import client, config\n",
    "\n",
    "IP_MLFLOW = \"http://34.65.82.22\"\n",
    "MODEL_NAME = \"iris_logistic_regression\"\n",
    "\n",
    "mlflow_client = MlflowClient(tracking_uri=IP_MLFLOW)\n",
    "model = mlflow_client.get_latest_versions(MODEL_NAME)[0]\n",
    "model_version = model.version\n",
    "model_uri = mlflow_client.get_model_version_download_uri(\n",
    "    MODEL_NAME, model_version\n",
    ")"
   ]
  },
  {
   "cell_type": "code",
   "execution_count": 52,
   "metadata": {},
   "outputs": [
    {
     "name": "stdout",
     "output_type": "stream",
     "text": [
      "Latest model URI: mlflow-artifacts:/7/e0b43e2b3f144023819d58438b80f002/artifacts/model\n"
     ]
    }
   ],
   "source": [
    "print(f\"Latest model URI: {model_uri}\")"
   ]
  },
  {
   "cell_type": "code",
   "execution_count": 56,
   "metadata": {},
   "outputs": [],
   "source": [
    "K8S_NAMESPACE = \"mlflow-kserve\"\n",
    "K8S_DEPLOYMENT_NAME = \"iris-logistic-regression-inference\"\n",
    "\n",
    "\n",
    "apps_v1 = client.AppsV1Api()\n",
    "\n",
    "# Définir ou mettre à jour le déploiement Kubernetes\n",
    "deployment = {\n",
    "    \"apiVersion\": \"apps/v1\",\n",
    "    \"kind\": \"Deployment\",\n",
    "    \"metadata\": {\"name\": K8S_DEPLOYMENT_NAME, \"namespace\": K8S_NAMESPACE},\n",
    "    \"spec\": {\n",
    "        \"replicas\": 3,  # Nombre de pods pour servir l'inférence\n",
    "        \"selector\": {\"matchLabels\": {\"app\": K8S_DEPLOYMENT_NAME}},\n",
    "        \"template\": {\n",
    "            \"metadata\": {\"labels\": {\"app\": K8S_DEPLOYMENT_NAME}},\n",
    "            \"spec\": {\n",
    "                \"containers\": [\n",
    "                    {\n",
    "                        \"name\": \"inference\",\n",
    "                        \"image\": \"ghcr.io/seldonio/mlserver:latest\",  # Utilise MLServer comme serveur\n",
    "                        \"args\": [\n",
    "                            \"--model-uri\",\n",
    "                            model_uri,\n",
    "                            \"--protocol\",\n",
    "                            \"v2\",\n",
    "                        ],\n",
    "                        \"ports\": [{\"containerPort\": 8080}],\n",
    "                    }\n",
    "                ]\n",
    "            },\n",
    "        },\n",
    "    },\n",
    "}\n"
   ]
  },
  {
   "cell_type": "code",
   "execution_count": null,
   "metadata": {},
   "outputs": [],
   "source": [
    "\n",
    "# Appliquer ou mettre à jour le déploiement\n",
    "try:\n",
    "    existing_deployment = apps_v1.read_namespaced_deployment(\n",
    "        name=K8S_DEPLOYMENT_NAME, namespace=K8S_NAMESPACE\n",
    "    )\n",
    "    apps_v1.patch_namespaced_deployment(\n",
    "        name=K8S_DEPLOYMENT_NAME, namespace=K8S_NAMESPACE, body=deployment\n",
    "    )\n",
    "    print(f\"Deployment {K8S_DEPLOYMENT_NAME} updated successfully.\")\n",
    "except client.exceptions.ApiException as e:\n",
    "    if e.status == 404:\n",
    "        apps_v1.create_namespaced_deployment(\n",
    "            namespace=K8S_NAMESPACE, body=deployment\n",
    "        )\n",
    "        print(f\"Deployment {K8S_DEPLOYMENT_NAME} created successfully.\")\n",
    "    else:\n",
    "        raise\n"
   ]
  }
 ],
 "metadata": {
  "kernelspec": {
   "display_name": ".venv",
   "language": "python",
   "name": "python3"
  },
  "language_info": {
   "codemirror_mode": {
    "name": "ipython",
    "version": 3
   },
   "file_extension": ".py",
   "mimetype": "text/x-python",
   "name": "python",
   "nbconvert_exporter": "python",
   "pygments_lexer": "ipython3",
   "version": "3.11.9"
  }
 },
 "nbformat": 4,
 "nbformat_minor": 2
}
